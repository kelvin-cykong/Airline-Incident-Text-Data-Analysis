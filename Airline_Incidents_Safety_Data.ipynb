{
 "cells": [
  {
   "attachments": {},
   "cell_type": "markdown",
   "metadata": {},
   "source": [
    "# Airline Incidents Safety Data Jupyter Notebook\n",
    "\n",
    "Data is from https://www.kaggle.com/datasets/tarique7/airline-incidents-safety-data\n",
    "\n",
    "Last Update: Mar 30 2023"
   ]
  },
  {
   "cell_type": "code",
   "execution_count": 39,
   "metadata": {},
   "outputs": [],
   "source": [
    "import pandas as pd\n",
    "import numpy as np\n",
    "import nltk\n",
    "from nltk.corpus import stopwords\n",
    "\n",
    "from sklearn.model_selection import train_test_split\n",
    "from sklearn.feature_extraction.text import TfidfVectorizer\n",
    "\n",
    "import copy\n",
    "\n",
    "import autokeras as ak\n",
    "\n",
    "import tensorflow as tf"
   ]
  },
  {
   "attachments": {},
   "cell_type": "markdown",
   "metadata": {},
   "source": [
    "## Step 0: Test GPU"
   ]
  },
  {
   "cell_type": "code",
   "execution_count": 43,
   "metadata": {},
   "outputs": [
    {
     "name": "stdout",
     "output_type": "stream",
     "text": [
      "\n",
      "Tensorflow version = 2.12.0\n",
      "\n",
      "\n",
      "[]\n",
      "\n"
     ]
    }
   ],
   "source": [
    "print(f'\\nTensorflow version = {tf.__version__}\\n')\n",
    "print(f'\\n{tf.config.list_physical_devices(\"GPU\")}\\n')"
   ]
  },
  {
   "cell_type": "code",
   "execution_count": 44,
   "metadata": {},
   "outputs": [
    {
     "name": "stdout",
     "output_type": "stream",
     "text": [
      "\n",
      "Available cuda = True\n",
      "\n",
      "GPUs availables = 1\n",
      "\n",
      "Current device = 0\n",
      "\n",
      "Current Device location = <torch.cuda.device object at 0x7f7d1239b190>\n",
      "\n",
      "Name of the device = NVIDIA GeForce RTX 3070\n"
     ]
    }
   ],
   "source": [
    "import torch\n",
    "\n",
    "print(f'\\nAvailable cuda = {torch.cuda.is_available()}')\n",
    "\n",
    "print(f'\\nGPUs availables = {torch.cuda.device_count()}')\n",
    "\n",
    "print(f'\\nCurrent device = {torch.cuda.current_device()}')\n",
    "\n",
    "print(f'\\nCurrent Device location = {torch.cuda.device(0)}')\n",
    "\n",
    "print(f'\\nName of the device = {torch.cuda.get_device_name(0)}')"
   ]
  },
  {
   "attachments": {},
   "cell_type": "markdown",
   "metadata": {},
   "source": [
    "## Step 1: Read dataset"
   ]
  },
  {
   "cell_type": "code",
   "execution_count": 3,
   "metadata": {},
   "outputs": [],
   "source": [
    "data = pd.read_csv('data/Airline Occurences.csv')"
   ]
  },
  {
   "attachments": {},
   "cell_type": "markdown",
   "metadata": {},
   "source": [
    "## Step 2: Understanding the dataset"
   ]
  },
  {
   "cell_type": "code",
   "execution_count": 4,
   "metadata": {},
   "outputs": [
    {
     "data": {
      "text/html": [
       "<div>\n",
       "<style scoped>\n",
       "    .dataframe tbody tr th:only-of-type {\n",
       "        vertical-align: middle;\n",
       "    }\n",
       "\n",
       "    .dataframe tbody tr th {\n",
       "        vertical-align: top;\n",
       "    }\n",
       "\n",
       "    .dataframe thead th {\n",
       "        text-align: right;\n",
       "    }\n",
       "</style>\n",
       "<table border=\"1\" class=\"dataframe\">\n",
       "  <thead>\n",
       "    <tr style=\"text-align: right;\">\n",
       "      <th></th>\n",
       "      <th>Report</th>\n",
       "      <th>Part Failure</th>\n",
       "      <th>Occurence Nature condition</th>\n",
       "      <th>Occurence Precautionary Procedures</th>\n",
       "    </tr>\n",
       "  </thead>\n",
       "  <tbody>\n",
       "    <tr>\n",
       "      <th>0</th>\n",
       "      <td>MECHANICAL / LANDING GEAR GND FAIL MSG AFTER T...</td>\n",
       "      <td>RT MLG BRAKE DAMAGED</td>\n",
       "      <td>WARNING INDICATION</td>\n",
       "      <td>OTHER</td>\n",
       "    </tr>\n",
       "    <tr>\n",
       "      <th>1</th>\n",
       "      <td>THE NOSE LANDING GEAR DID NOT EXTEND FULLY DUR...</td>\n",
       "      <td>ZONE 700 MALFUNCTIONED</td>\n",
       "      <td>WARNING INDICATION</td>\n",
       "      <td>ABORTED APPROACH</td>\n",
       "    </tr>\n",
       "    <tr>\n",
       "      <th>2</th>\n",
       "      <td>THE LEFT SIDE HYDRAULIC SYSTEM FILTER BOWL ASS...</td>\n",
       "      <td>HYD FILTER FAILED</td>\n",
       "      <td>OTHER</td>\n",
       "      <td>ABORTED APPROACH</td>\n",
       "    </tr>\n",
       "    <tr>\n",
       "      <th>3</th>\n",
       "      <td>AIRCRAFT WAS ON ROLLOUT DURING A NORMAL LANDIN...</td>\n",
       "      <td>LEFT COLLAPSED</td>\n",
       "      <td>OTHER</td>\n",
       "      <td>OTHER</td>\n",
       "    </tr>\n",
       "    <tr>\n",
       "      <th>4</th>\n",
       "      <td>UPON TAKEOFF ROLL BUT PRIOR TO REACHING 80 KNO...</td>\n",
       "      <td>ZONE 600 CRACKED</td>\n",
       "      <td>WARNING INDICATION</td>\n",
       "      <td>ABORTED TAKEOFF</td>\n",
       "    </tr>\n",
       "  </tbody>\n",
       "</table>\n",
       "</div>"
      ],
      "text/plain": [
       "                                              Report  \\\n",
       "0  MECHANICAL / LANDING GEAR GND FAIL MSG AFTER T...   \n",
       "1  THE NOSE LANDING GEAR DID NOT EXTEND FULLY DUR...   \n",
       "2  THE LEFT SIDE HYDRAULIC SYSTEM FILTER BOWL ASS...   \n",
       "3  AIRCRAFT WAS ON ROLLOUT DURING A NORMAL LANDIN...   \n",
       "4  UPON TAKEOFF ROLL BUT PRIOR TO REACHING 80 KNO...   \n",
       "\n",
       "                    Part Failure  Occurence Nature condition  \\\n",
       "0  RT MLG BRAKE DAMAGED           WARNING INDICATION           \n",
       "1      ZONE 700 MALFUNCTIONED     WARNING INDICATION           \n",
       "2    HYD FILTER FAILED            OTHER                        \n",
       "3          LEFT COLLAPSED         OTHER                        \n",
       "4      ZONE 600 CRACKED           WARNING INDICATION           \n",
       "\n",
       "  Occurence Precautionary Procedures  \n",
       "0           OTHER                     \n",
       "1           ABORTED APPROACH          \n",
       "2           ABORTED APPROACH          \n",
       "3           OTHER                     \n",
       "4           ABORTED TAKEOFF           "
      ]
     },
     "execution_count": 4,
     "metadata": {},
     "output_type": "execute_result"
    }
   ],
   "source": [
    "data.head()"
   ]
  },
  {
   "cell_type": "code",
   "execution_count": 7,
   "metadata": {},
   "outputs": [
    {
     "data": {
      "text/plain": [
       "(100028, 4)"
      ]
     },
     "execution_count": 7,
     "metadata": {},
     "output_type": "execute_result"
    }
   ],
   "source": [
    "data.shape"
   ]
  },
  {
   "cell_type": "code",
   "execution_count": 54,
   "metadata": {},
   "outputs": [
    {
     "data": {
      "text/plain": [
       "Report                                object\n",
       "Part Failure                          object\n",
       "Occurence Nature condition            object\n",
       "Occurence Precautionary Procedures    object\n",
       "dtype: object"
      ]
     },
     "execution_count": 54,
     "metadata": {},
     "output_type": "execute_result"
    }
   ],
   "source": [
    "data.dtypes"
   ]
  },
  {
   "cell_type": "code",
   "execution_count": 55,
   "metadata": {},
   "outputs": [
    {
     "name": "stdout",
     "output_type": "stream",
     "text": [
      "<class 'pandas.core.frame.DataFrame'>\n",
      "RangeIndex: 100028 entries, 0 to 100027\n",
      "Data columns (total 4 columns):\n",
      " #   Column                              Non-Null Count   Dtype \n",
      "---  ------                              --------------   ----- \n",
      " 0   Report                              100028 non-null  object\n",
      " 1   Part Failure                        100028 non-null  object\n",
      " 2   Occurence Nature condition          100028 non-null  object\n",
      " 3   Occurence Precautionary Procedures  100028 non-null  object\n",
      "dtypes: object(4)\n",
      "memory usage: 3.1+ MB\n"
     ]
    }
   ],
   "source": [
    "data.info()"
   ]
  },
  {
   "cell_type": "code",
   "execution_count": 56,
   "metadata": {},
   "outputs": [
    {
     "name": "stdout",
     "output_type": "stream",
     "text": [
      "Report                                0\n",
      "Part Failure                          0\n",
      "Occurence Nature condition            0\n",
      "Occurence Precautionary Procedures    0\n",
      "dtype: int64\n"
     ]
    }
   ],
   "source": [
    "print(data.isnull().sum())"
   ]
  },
  {
   "cell_type": "code",
   "execution_count": 5,
   "metadata": {},
   "outputs": [
    {
     "data": {
      "text/plain": [
       "OTHER                         82172\n",
       "WARNING INDICATION             7154\n",
       "NO TEST                        3577\n",
       "SMOKE/FUMES/ODORS/SPARKS       2166\n",
       "FALSE WARNING                  1683\n",
       "FLUID LOSS                      975\n",
       "FLT CONT AFFECTED               320\n",
       "OVER TEMP                       316\n",
       "NO WARNING INDICATION           255\n",
       "VIBRATION/BUFFET                228\n",
       "INADEQUATE Q C                  223\n",
       "AFFECT SYSTEMS                  202\n",
       "F.O.D.                          191\n",
       "PARTIAL RPM/PWR LOSS            152\n",
       "MULTIPLE FAILURE                107\n",
       "FLAME/FIRE                       65\n",
       "ENGINE STOPPAGE                  56\n",
       "SIGNIFICANT FAILURE REPORT       53\n",
       "INFLIGHT SEPARATION              47\n",
       "ENGINE FLAMEOUT                  38\n",
       "ELECT. POWER LOSS-50 PC          27\n",
       "FLT. ATTITUDE INST.              21\n",
       "Name: Occurence Nature condition, dtype: int64"
      ]
     },
     "execution_count": 5,
     "metadata": {},
     "output_type": "execute_result"
    }
   ],
   "source": [
    "data['Occurence Nature condition'].value_counts()"
   ]
  },
  {
   "cell_type": "code",
   "execution_count": 6,
   "metadata": {},
   "outputs": [
    {
     "data": {
      "text/plain": [
       "NONE                        79268\n",
       "OTHER                       14855\n",
       "UNSCHED LANDING              3627\n",
       "ABORTED TAKEOFF               719\n",
       "RETURN TO BLOCK               556\n",
       "EMER. DESCENT                 422\n",
       "ENGINE SHUTDOWN               229\n",
       "ABORTED APPROACH              142\n",
       "DEACTIVATE SYST/CIRCUITS      135\n",
       "DUMP FUEL                      25\n",
       "ACTIVATE FIRE EXT.             22\n",
       "O2 MASK DEPLOYED               21\n",
       "AUTOROTATION                    4\n",
       "CABIN DEPRESSURIZATION          3\n",
       "Name: Occurence Precautionary Procedures, dtype: int64"
      ]
     },
     "execution_count": 6,
     "metadata": {},
     "output_type": "execute_result"
    }
   ],
   "source": [
    "data['Occurence Precautionary Procedures'].value_counts()"
   ]
  },
  {
   "attachments": {},
   "cell_type": "markdown",
   "metadata": {},
   "source": [
    "## Step 3: Text Preprocessing"
   ]
  },
  {
   "cell_type": "code",
   "execution_count": 29,
   "metadata": {},
   "outputs": [],
   "source": [
    "def text_preprocessing(data):\n",
    "    stop_words = set(stopwords.words('english'))\n",
    "    data_columns_list = list(data.columns)\n",
    "    for i in range(len(data_columns_list)):\n",
    "        data[data_columns_list[i]] = data[data_columns_list[i]].str.strip().str.lower()\n",
    "        for j in range(len(data)):\n",
    "            text = data[data_columns_list[i]].loc[j]\n",
    "            text = ' '.join([word for word in text.split() if word not in stop_words])\n",
    "            data[data_columns_list[i]].loc[j] = text\n",
    "    return data"
   ]
  },
  {
   "cell_type": "code",
   "execution_count": 30,
   "metadata": {},
   "outputs": [
    {
     "data": {
      "text/plain": [
       "['Report',\n",
       " 'Part Failure',\n",
       " 'Occurence Nature condition',\n",
       " 'Occurence Precautionary Procedures']"
      ]
     },
     "execution_count": 30,
     "metadata": {},
     "output_type": "execute_result"
    }
   ],
   "source": [
    "list(data.columns)"
   ]
  },
  {
   "cell_type": "code",
   "execution_count": 35,
   "metadata": {},
   "outputs": [],
   "source": [
    "data_processed = copy.deepcopy(data) # Remove reference pointers\n",
    "data_output = text_preprocessing(data_processed)"
   ]
  },
  {
   "cell_type": "code",
   "execution_count": 36,
   "metadata": {},
   "outputs": [
    {
     "data": {
      "text/html": [
       "<div>\n",
       "<style scoped>\n",
       "    .dataframe tbody tr th:only-of-type {\n",
       "        vertical-align: middle;\n",
       "    }\n",
       "\n",
       "    .dataframe tbody tr th {\n",
       "        vertical-align: top;\n",
       "    }\n",
       "\n",
       "    .dataframe thead th {\n",
       "        text-align: right;\n",
       "    }\n",
       "</style>\n",
       "<table border=\"1\" class=\"dataframe\">\n",
       "  <thead>\n",
       "    <tr style=\"text-align: right;\">\n",
       "      <th></th>\n",
       "      <th>Report</th>\n",
       "      <th>Part Failure</th>\n",
       "      <th>Occurence Nature condition</th>\n",
       "      <th>Occurence Precautionary Procedures</th>\n",
       "    </tr>\n",
       "  </thead>\n",
       "  <tbody>\n",
       "    <tr>\n",
       "      <th>0</th>\n",
       "      <td>mechanical / landing gear gnd fail msg takeoff...</td>\n",
       "      <td>rt mlg brake damaged</td>\n",
       "      <td>warning indication</td>\n",
       "      <td></td>\n",
       "    </tr>\n",
       "    <tr>\n",
       "      <th>1</th>\n",
       "      <td>nose landing gear extend fully approach seen i...</td>\n",
       "      <td>zone 700 malfunctioned</td>\n",
       "      <td>warning indication</td>\n",
       "      <td>aborted approach</td>\n",
       "    </tr>\n",
       "    <tr>\n",
       "      <th>2</th>\n",
       "      <td>left side hydraulic system filter bowl assembl...</td>\n",
       "      <td>hyd filter failed</td>\n",
       "      <td></td>\n",
       "      <td>aborted approach</td>\n",
       "    </tr>\n",
       "    <tr>\n",
       "      <th>3</th>\n",
       "      <td>aircraft rollout normal landing. landing gear ...</td>\n",
       "      <td>left collapsed</td>\n",
       "      <td></td>\n",
       "      <td></td>\n",
       "    </tr>\n",
       "    <tr>\n",
       "      <th>4</th>\n",
       "      <td>upon takeoff roll prior reaching 80 knots pilo...</td>\n",
       "      <td>zone 600 cracked</td>\n",
       "      <td>warning indication</td>\n",
       "      <td>aborted takeoff</td>\n",
       "    </tr>\n",
       "  </tbody>\n",
       "</table>\n",
       "</div>"
      ],
      "text/plain": [
       "                                              Report            Part Failure  \\\n",
       "0  mechanical / landing gear gnd fail msg takeoff...    rt mlg brake damaged   \n",
       "1  nose landing gear extend fully approach seen i...  zone 700 malfunctioned   \n",
       "2  left side hydraulic system filter bowl assembl...       hyd filter failed   \n",
       "3  aircraft rollout normal landing. landing gear ...          left collapsed   \n",
       "4  upon takeoff roll prior reaching 80 knots pilo...        zone 600 cracked   \n",
       "\n",
       "  Occurence Nature condition Occurence Precautionary Procedures  \n",
       "0         warning indication                                     \n",
       "1         warning indication                   aborted approach  \n",
       "2                                              aborted approach  \n",
       "3                                                                \n",
       "4         warning indication                    aborted takeoff  "
      ]
     },
     "execution_count": 36,
     "metadata": {},
     "output_type": "execute_result"
    }
   ],
   "source": [
    "data_output.head()"
   ]
  },
  {
   "attachments": {},
   "cell_type": "markdown",
   "metadata": {},
   "source": [
    "## Step 4: Model Building"
   ]
  },
  {
   "cell_type": "code",
   "execution_count": 50,
   "metadata": {},
   "outputs": [],
   "source": [
    "X = data_output[['Report', 'Part Failure']]\n",
    "X_new = data_output['Report']\n",
    "y = data_output['Occurence Nature condition']\n",
    "X_train, X_test, y_train, y_test = train_test_split(X_new, y, test_size=0.25, random_state=42)"
   ]
  },
  {
   "cell_type": "code",
   "execution_count": 51,
   "metadata": {},
   "outputs": [],
   "source": [
    "X_train_ak = np.array(X_train)\n",
    "X_test_ak = np.array(X_test)\n",
    "y_train_ak = np.array(y_train)\n",
    "y_test_ak = np.array(y_test)"
   ]
  },
  {
   "cell_type": "code",
   "execution_count": 53,
   "metadata": {},
   "outputs": [
    {
     "name": "stdout",
     "output_type": "stream",
     "text": [
      "Trial 2 Complete [00h 00m 02s]\n",
      "\n",
      "Best val_loss So Far: None\n",
      "Total elapsed time: 00h 00m 05s\n",
      "\n",
      "Search: Running Trial #3\n",
      "\n",
      "Value             |Best Value So Far |Hyperparameter\n",
      "vanilla           |vanilla           |text_block_1/block_type\n",
      "5000              |5000              |text_block_1/max_tokens\n",
      "64                |64                |text_block_1/text_to_int_sequence_1/output_sequence_length\n",
      "none              |none              |text_block_1/embedding_1/pretraining\n",
      "128               |128               |text_block_1/embedding_1/embedding_dim\n",
      "0.25              |0.25              |text_block_1/embedding_1/dropout\n",
      "3                 |3                 |text_block_1/conv_block_1/kernel_size\n",
      "False             |False             |text_block_1/conv_block_1/separable\n",
      "True              |True              |text_block_1/conv_block_1/max_pooling\n",
      "2                 |2                 |text_block_1/conv_block_1/num_blocks\n",
      "2                 |2                 |text_block_1/conv_block_1/num_layers\n",
      "32                |32                |text_block_1/conv_block_1/filters_0_0\n",
      "64                |32                |text_block_1/conv_block_1/filters_0_1\n",
      "0                 |0                 |text_block_1/conv_block_1/dropout\n",
      "128               |128               |text_block_1/conv_block_1/filters_1_0\n",
      "32                |32                |text_block_1/conv_block_1/filters_1_1\n",
      "flatten           |flatten           |text_block_1/spatial_reduction_1/reduction_type\n",
      "False             |False             |text_block_1/dense_block_1/use_batchnorm\n",
      "2                 |2                 |text_block_1/dense_block_1/num_layers\n",
      "32                |32                |text_block_1/dense_block_1/units_0\n",
      "0                 |0                 |text_block_1/dense_block_1/dropout\n",
      "32                |32                |text_block_1/dense_block_1/units_1\n",
      "0                 |0                 |regression_head_1/dropout\n",
      "adam              |adam              |optimizer\n",
      "0.001             |0.001             |learning_rate\n",
      "\n"
     ]
    },
    {
     "name": "stderr",
     "output_type": "stream",
     "text": [
      "2023-03-30 19:27:28.955657: I tensorflow/core/common_runtime/executor.cc:1197] [/device:CPU:0] (DEBUG INFO) Executor start aborting (this does not indicate an error and you can ignore this message): INVALID_ARGUMENT: You must feed a value for placeholder tensor 'Placeholder/_20' with dtype string and shape [75021]\n",
      "\t [[{{node Placeholder/_20}}]]\n",
      "2023-03-30 19:27:28.955884: I tensorflow/core/common_runtime/executor.cc:1197] [/device:CPU:0] (DEBUG INFO) Executor start aborting (this does not indicate an error and you can ignore this message): INVALID_ARGUMENT: You must feed a value for placeholder tensor 'Placeholder/_5' with dtype string and shape [75021]\n",
      "\t [[{{node Placeholder/_5}}]]\n"
     ]
    },
    {
     "name": "stdout",
     "output_type": "stream",
     "text": [
      "Epoch 1/30\n"
     ]
    },
    {
     "name": "stderr",
     "output_type": "stream",
     "text": [
      "2023-03-30 19:27:30.161054: I tensorflow/core/common_runtime/executor.cc:1197] [/device:CPU:0] (DEBUG INFO) Executor start aborting (this does not indicate an error and you can ignore this message): INVALID_ARGUMENT: You must feed a value for placeholder tensor 'Placeholder/_15' with dtype string and shape [75021]\n",
      "\t [[{{node Placeholder/_15}}]]\n",
      "2023-03-30 19:27:30.161273: I tensorflow/core/common_runtime/executor.cc:1197] [/device:CPU:0] (DEBUG INFO) Executor start aborting (this does not indicate an error and you can ignore this message): INVALID_ARGUMENT: You must feed a value for placeholder tensor 'Placeholder/_0' with dtype string and shape [75021]\n",
      "\t [[{{node Placeholder/_0}}]]\n",
      "2023-03-30 19:27:31.008289: W tensorflow/core/framework/op_kernel.cc:1807] OP_REQUIRES failed at cast_op.cc:121 : UNIMPLEMENTED: Cast string to float is not supported\n",
      "Traceback (most recent call last):\n",
      "  File \"/home/devkelvin/.local/lib/python3.10/site-packages/keras_tuner/engine/base_tuner.py\", line 266, in _try_run_and_update_trial\n",
      "    self._run_and_update_trial(trial, *fit_args, **fit_kwargs)\n",
      "  File \"/home/devkelvin/.local/lib/python3.10/site-packages/keras_tuner/engine/base_tuner.py\", line 231, in _run_and_update_trial\n",
      "    results = self.run_trial(trial, *fit_args, **fit_kwargs)\n",
      "  File \"/home/devkelvin/.local/lib/python3.10/site-packages/keras_tuner/engine/tuner.py\", line 287, in run_trial\n",
      "    obj_value = self._build_and_fit_model(trial, *args, **copied_kwargs)\n",
      "  File \"/home/devkelvin/.local/lib/python3.10/site-packages/autokeras/engine/tuner.py\", line 101, in _build_and_fit_model\n",
      "    _, history = utils.fit_with_adaptive_batch_size(\n",
      "  File \"/home/devkelvin/.local/lib/python3.10/site-packages/autokeras/utils/utils.py\", line 88, in fit_with_adaptive_batch_size\n",
      "    history = run_with_adaptive_batch_size(\n",
      "  File \"/home/devkelvin/.local/lib/python3.10/site-packages/autokeras/utils/utils.py\", line 101, in run_with_adaptive_batch_size\n",
      "    history = func(x=x, validation_data=validation_data, **fit_kwargs)\n",
      "  File \"/home/devkelvin/.local/lib/python3.10/site-packages/autokeras/utils/utils.py\", line 89, in <lambda>\n",
      "    batch_size, lambda **kwargs: model.fit(**kwargs), **fit_kwargs\n",
      "  File \"/home/devkelvin/.local/lib/python3.10/site-packages/keras/utils/traceback_utils.py\", line 70, in error_handler\n",
      "    raise e.with_traceback(filtered_tb) from None\n",
      "  File \"/home/devkelvin/.local/lib/python3.10/site-packages/tensorflow/python/eager/execute.py\", line 52, in quick_execute\n",
      "    tensors = pywrap_tfe.TFE_Py_Execute(ctx._handle, device_name, op_name,\n",
      "tensorflow.python.framework.errors_impl.UnimplementedError: Graph execution error:\n",
      "\n",
      "Detected at node 'mean_squared_error/Cast' defined at (most recent call last):\n",
      "    File \"/usr/lib/python3.10/runpy.py\", line 196, in _run_module_as_main\n",
      "      return _run_code(code, main_globals, None,\n",
      "    File \"/usr/lib/python3.10/runpy.py\", line 86, in _run_code\n",
      "      exec(code, run_globals)\n",
      "    File \"/home/devkelvin/.local/lib/python3.10/site-packages/ipykernel_launcher.py\", line 17, in <module>\n",
      "      app.launch_new_instance()\n",
      "    File \"/home/devkelvin/.local/lib/python3.10/site-packages/traitlets/config/application.py\", line 1043, in launch_instance\n",
      "      app.start()\n",
      "    File \"/home/devkelvin/.local/lib/python3.10/site-packages/ipykernel/kernelapp.py\", line 725, in start\n",
      "      self.io_loop.start()\n",
      "    File \"/home/devkelvin/.local/lib/python3.10/site-packages/tornado/platform/asyncio.py\", line 215, in start\n",
      "      self.asyncio_loop.run_forever()\n",
      "    File \"/usr/lib/python3.10/asyncio/base_events.py\", line 600, in run_forever\n",
      "      self._run_once()\n",
      "    File \"/usr/lib/python3.10/asyncio/base_events.py\", line 1896, in _run_once\n",
      "      handle._run()\n",
      "    File \"/usr/lib/python3.10/asyncio/events.py\", line 80, in _run\n",
      "      self._context.run(self._callback, *self._args)\n",
      "    File \"/home/devkelvin/.local/lib/python3.10/site-packages/ipykernel/kernelbase.py\", line 513, in dispatch_queue\n",
      "      await self.process_one()\n",
      "    File \"/home/devkelvin/.local/lib/python3.10/site-packages/ipykernel/kernelbase.py\", line 502, in process_one\n",
      "      await dispatch(*args)\n",
      "    File \"/home/devkelvin/.local/lib/python3.10/site-packages/ipykernel/kernelbase.py\", line 409, in dispatch_shell\n",
      "      await result\n",
      "    File \"/home/devkelvin/.local/lib/python3.10/site-packages/ipykernel/kernelbase.py\", line 729, in execute_request\n",
      "      reply_content = await reply_content\n",
      "    File \"/home/devkelvin/.local/lib/python3.10/site-packages/ipykernel/ipkernel.py\", line 422, in do_execute\n",
      "      res = shell.run_cell(\n",
      "    File \"/home/devkelvin/.local/lib/python3.10/site-packages/ipykernel/zmqshell.py\", line 540, in run_cell\n",
      "      return super().run_cell(*args, **kwargs)\n",
      "    File \"/home/devkelvin/.local/lib/python3.10/site-packages/IPython/core/interactiveshell.py\", line 2961, in run_cell\n",
      "      result = self._run_cell(\n",
      "    File \"/home/devkelvin/.local/lib/python3.10/site-packages/IPython/core/interactiveshell.py\", line 3016, in _run_cell\n",
      "      result = runner(coro)\n",
      "    File \"/home/devkelvin/.local/lib/python3.10/site-packages/IPython/core/async_helpers.py\", line 129, in _pseudo_sync_runner\n",
      "      coro.send(None)\n",
      "    File \"/home/devkelvin/.local/lib/python3.10/site-packages/IPython/core/interactiveshell.py\", line 3221, in run_cell_async\n",
      "      has_raised = await self.run_ast_nodes(code_ast.body, cell_name,\n",
      "    File \"/home/devkelvin/.local/lib/python3.10/site-packages/IPython/core/interactiveshell.py\", line 3400, in run_ast_nodes\n",
      "      if await self.run_code(code, result, async_=asy):\n",
      "    File \"/home/devkelvin/.local/lib/python3.10/site-packages/IPython/core/interactiveshell.py\", line 3460, in run_code\n",
      "      exec(code_obj, self.user_global_ns, self.user_ns)\n",
      "    File \"/tmp/ipykernel_5987/4269979880.py\", line 3, in <module>\n",
      "      keras.fit(X_train_ak, y_train_ak, epochs=30, validation_split=0.2)\n",
      "    File \"/home/devkelvin/.local/lib/python3.10/site-packages/autokeras/tasks/text.py\", line 292, in fit\n",
      "      history = super().fit(\n",
      "    File \"/home/devkelvin/.local/lib/python3.10/site-packages/autokeras/auto_model.py\", line 292, in fit\n",
      "      history = self.tuner.search(\n",
      "    File \"/home/devkelvin/.local/lib/python3.10/site-packages/autokeras/engine/tuner.py\", line 193, in search\n",
      "      super().search(\n",
      "    File \"/home/devkelvin/.local/lib/python3.10/site-packages/keras_tuner/engine/base_tuner.py\", line 226, in search\n",
      "      self._try_run_and_update_trial(trial, *fit_args, **fit_kwargs)\n",
      "    File \"/home/devkelvin/.local/lib/python3.10/site-packages/keras_tuner/engine/base_tuner.py\", line 266, in _try_run_and_update_trial\n",
      "      self._run_and_update_trial(trial, *fit_args, **fit_kwargs)\n",
      "    File \"/home/devkelvin/.local/lib/python3.10/site-packages/keras_tuner/engine/base_tuner.py\", line 231, in _run_and_update_trial\n",
      "      results = self.run_trial(trial, *fit_args, **fit_kwargs)\n",
      "    File \"/home/devkelvin/.local/lib/python3.10/site-packages/keras_tuner/engine/tuner.py\", line 287, in run_trial\n",
      "      obj_value = self._build_and_fit_model(trial, *args, **copied_kwargs)\n",
      "    File \"/home/devkelvin/.local/lib/python3.10/site-packages/autokeras/engine/tuner.py\", line 101, in _build_and_fit_model\n",
      "      _, history = utils.fit_with_adaptive_batch_size(\n",
      "    File \"/home/devkelvin/.local/lib/python3.10/site-packages/autokeras/utils/utils.py\", line 88, in fit_with_adaptive_batch_size\n",
      "      history = run_with_adaptive_batch_size(\n",
      "    File \"/home/devkelvin/.local/lib/python3.10/site-packages/autokeras/utils/utils.py\", line 101, in run_with_adaptive_batch_size\n",
      "      history = func(x=x, validation_data=validation_data, **fit_kwargs)\n",
      "    File \"/home/devkelvin/.local/lib/python3.10/site-packages/autokeras/utils/utils.py\", line 89, in <lambda>\n",
      "      batch_size, lambda **kwargs: model.fit(**kwargs), **fit_kwargs\n",
      "    File \"/home/devkelvin/.local/lib/python3.10/site-packages/keras/utils/traceback_utils.py\", line 65, in error_handler\n",
      "      return fn(*args, **kwargs)\n",
      "    File \"/home/devkelvin/.local/lib/python3.10/site-packages/keras/engine/training.py\", line 1685, in fit\n",
      "      tmp_logs = self.train_function(iterator)\n",
      "    File \"/home/devkelvin/.local/lib/python3.10/site-packages/keras/engine/training.py\", line 1284, in train_function\n",
      "      return step_function(self, iterator)\n",
      "    File \"/home/devkelvin/.local/lib/python3.10/site-packages/keras/engine/training.py\", line 1268, in step_function\n",
      "      outputs = model.distribute_strategy.run(run_step, args=(data,))\n",
      "    File \"/home/devkelvin/.local/lib/python3.10/site-packages/keras/engine/training.py\", line 1249, in run_step\n",
      "      outputs = model.train_step(data)\n",
      "    File \"/home/devkelvin/.local/lib/python3.10/site-packages/keras/engine/training.py\", line 1051, in train_step\n",
      "      loss = self.compute_loss(x, y, y_pred, sample_weight)\n",
      "    File \"/home/devkelvin/.local/lib/python3.10/site-packages/keras/engine/training.py\", line 1109, in compute_loss\n",
      "      return self.compiled_loss(\n",
      "    File \"/home/devkelvin/.local/lib/python3.10/site-packages/keras/engine/compile_utils.py\", line 265, in __call__\n",
      "      loss_value = loss_obj(y_t, y_p, sample_weight=sw)\n",
      "    File \"/home/devkelvin/.local/lib/python3.10/site-packages/keras/losses.py\", line 142, in __call__\n",
      "      losses = call_fn(y_true, y_pred)\n",
      "    File \"/home/devkelvin/.local/lib/python3.10/site-packages/keras/losses.py\", line 268, in call\n",
      "      return ag_fn(y_true, y_pred, **self._fn_kwargs)\n",
      "    File \"/home/devkelvin/.local/lib/python3.10/site-packages/keras/losses.py\", line 1469, in mean_squared_error\n",
      "      y_true = tf.cast(y_true, y_pred.dtype)\n",
      "Node: 'mean_squared_error/Cast'\n",
      "Cast string to float is not supported\n",
      "\t [[{{node mean_squared_error/Cast}}]] [Op:__inference_train_function_47348]\n"
     ]
    },
    {
     "ename": "RuntimeError",
     "evalue": "Number of consecutive failures excceeded the limit of 3.\nTraceback (most recent call last):\n  File \"/home/devkelvin/.local/lib/python3.10/site-packages/keras_tuner/engine/base_tuner.py\", line 266, in _try_run_and_update_trial\n    self._run_and_update_trial(trial, *fit_args, **fit_kwargs)\n  File \"/home/devkelvin/.local/lib/python3.10/site-packages/keras_tuner/engine/base_tuner.py\", line 231, in _run_and_update_trial\n    results = self.run_trial(trial, *fit_args, **fit_kwargs)\n  File \"/home/devkelvin/.local/lib/python3.10/site-packages/keras_tuner/engine/tuner.py\", line 287, in run_trial\n    obj_value = self._build_and_fit_model(trial, *args, **copied_kwargs)\n  File \"/home/devkelvin/.local/lib/python3.10/site-packages/autokeras/engine/tuner.py\", line 101, in _build_and_fit_model\n    _, history = utils.fit_with_adaptive_batch_size(\n  File \"/home/devkelvin/.local/lib/python3.10/site-packages/autokeras/utils/utils.py\", line 88, in fit_with_adaptive_batch_size\n    history = run_with_adaptive_batch_size(\n  File \"/home/devkelvin/.local/lib/python3.10/site-packages/autokeras/utils/utils.py\", line 101, in run_with_adaptive_batch_size\n    history = func(x=x, validation_data=validation_data, **fit_kwargs)\n  File \"/home/devkelvin/.local/lib/python3.10/site-packages/autokeras/utils/utils.py\", line 89, in <lambda>\n    batch_size, lambda **kwargs: model.fit(**kwargs), **fit_kwargs\n  File \"/home/devkelvin/.local/lib/python3.10/site-packages/keras/utils/traceback_utils.py\", line 70, in error_handler\n    raise e.with_traceback(filtered_tb) from None\n  File \"/home/devkelvin/.local/lib/python3.10/site-packages/tensorflow/python/eager/execute.py\", line 52, in quick_execute\n    tensors = pywrap_tfe.TFE_Py_Execute(ctx._handle, device_name, op_name,\ntensorflow.python.framework.errors_impl.UnimplementedError: Graph execution error:\n\nDetected at node 'mean_squared_error/Cast' defined at (most recent call last):\n    File \"/usr/lib/python3.10/runpy.py\", line 196, in _run_module_as_main\n      return _run_code(code, main_globals, None,\n    File \"/usr/lib/python3.10/runpy.py\", line 86, in _run_code\n      exec(code, run_globals)\n    File \"/home/devkelvin/.local/lib/python3.10/site-packages/ipykernel_launcher.py\", line 17, in <module>\n      app.launch_new_instance()\n    File \"/home/devkelvin/.local/lib/python3.10/site-packages/traitlets/config/application.py\", line 1043, in launch_instance\n      app.start()\n    File \"/home/devkelvin/.local/lib/python3.10/site-packages/ipykernel/kernelapp.py\", line 725, in start\n      self.io_loop.start()\n    File \"/home/devkelvin/.local/lib/python3.10/site-packages/tornado/platform/asyncio.py\", line 215, in start\n      self.asyncio_loop.run_forever()\n    File \"/usr/lib/python3.10/asyncio/base_events.py\", line 600, in run_forever\n      self._run_once()\n    File \"/usr/lib/python3.10/asyncio/base_events.py\", line 1896, in _run_once\n      handle._run()\n    File \"/usr/lib/python3.10/asyncio/events.py\", line 80, in _run\n      self._context.run(self._callback, *self._args)\n    File \"/home/devkelvin/.local/lib/python3.10/site-packages/ipykernel/kernelbase.py\", line 513, in dispatch_queue\n      await self.process_one()\n    File \"/home/devkelvin/.local/lib/python3.10/site-packages/ipykernel/kernelbase.py\", line 502, in process_one\n      await dispatch(*args)\n    File \"/home/devkelvin/.local/lib/python3.10/site-packages/ipykernel/kernelbase.py\", line 409, in dispatch_shell\n      await result\n    File \"/home/devkelvin/.local/lib/python3.10/site-packages/ipykernel/kernelbase.py\", line 729, in execute_request\n      reply_content = await reply_content\n    File \"/home/devkelvin/.local/lib/python3.10/site-packages/ipykernel/ipkernel.py\", line 422, in do_execute\n      res = shell.run_cell(\n    File \"/home/devkelvin/.local/lib/python3.10/site-packages/ipykernel/zmqshell.py\", line 540, in run_cell\n      return super().run_cell(*args, **kwargs)\n    File \"/home/devkelvin/.local/lib/python3.10/site-packages/IPython/core/interactiveshell.py\", line 2961, in run_cell\n      result = self._run_cell(\n    File \"/home/devkelvin/.local/lib/python3.10/site-packages/IPython/core/interactiveshell.py\", line 3016, in _run_cell\n      result = runner(coro)\n    File \"/home/devkelvin/.local/lib/python3.10/site-packages/IPython/core/async_helpers.py\", line 129, in _pseudo_sync_runner\n      coro.send(None)\n    File \"/home/devkelvin/.local/lib/python3.10/site-packages/IPython/core/interactiveshell.py\", line 3221, in run_cell_async\n      has_raised = await self.run_ast_nodes(code_ast.body, cell_name,\n    File \"/home/devkelvin/.local/lib/python3.10/site-packages/IPython/core/interactiveshell.py\", line 3400, in run_ast_nodes\n      if await self.run_code(code, result, async_=asy):\n    File \"/home/devkelvin/.local/lib/python3.10/site-packages/IPython/core/interactiveshell.py\", line 3460, in run_code\n      exec(code_obj, self.user_global_ns, self.user_ns)\n    File \"/tmp/ipykernel_5987/4269979880.py\", line 3, in <module>\n      keras.fit(X_train_ak, y_train_ak, epochs=30, validation_split=0.2)\n    File \"/home/devkelvin/.local/lib/python3.10/site-packages/autokeras/tasks/text.py\", line 292, in fit\n      history = super().fit(\n    File \"/home/devkelvin/.local/lib/python3.10/site-packages/autokeras/auto_model.py\", line 292, in fit\n      history = self.tuner.search(\n    File \"/home/devkelvin/.local/lib/python3.10/site-packages/autokeras/engine/tuner.py\", line 193, in search\n      super().search(\n    File \"/home/devkelvin/.local/lib/python3.10/site-packages/keras_tuner/engine/base_tuner.py\", line 226, in search\n      self._try_run_and_update_trial(trial, *fit_args, **fit_kwargs)\n    File \"/home/devkelvin/.local/lib/python3.10/site-packages/keras_tuner/engine/base_tuner.py\", line 266, in _try_run_and_update_trial\n      self._run_and_update_trial(trial, *fit_args, **fit_kwargs)\n    File \"/home/devkelvin/.local/lib/python3.10/site-packages/keras_tuner/engine/base_tuner.py\", line 231, in _run_and_update_trial\n      results = self.run_trial(trial, *fit_args, **fit_kwargs)\n    File \"/home/devkelvin/.local/lib/python3.10/site-packages/keras_tuner/engine/tuner.py\", line 287, in run_trial\n      obj_value = self._build_and_fit_model(trial, *args, **copied_kwargs)\n    File \"/home/devkelvin/.local/lib/python3.10/site-packages/autokeras/engine/tuner.py\", line 101, in _build_and_fit_model\n      _, history = utils.fit_with_adaptive_batch_size(\n    File \"/home/devkelvin/.local/lib/python3.10/site-packages/autokeras/utils/utils.py\", line 88, in fit_with_adaptive_batch_size\n      history = run_with_adaptive_batch_size(\n    File \"/home/devkelvin/.local/lib/python3.10/site-packages/autokeras/utils/utils.py\", line 101, in run_with_adaptive_batch_size\n      history = func(x=x, validation_data=validation_data, **fit_kwargs)\n    File \"/home/devkelvin/.local/lib/python3.10/site-packages/autokeras/utils/utils.py\", line 89, in <lambda>\n      batch_size, lambda **kwargs: model.fit(**kwargs), **fit_kwargs\n    File \"/home/devkelvin/.local/lib/python3.10/site-packages/keras/utils/traceback_utils.py\", line 65, in error_handler\n      return fn(*args, **kwargs)\n    File \"/home/devkelvin/.local/lib/python3.10/site-packages/keras/engine/training.py\", line 1685, in fit\n      tmp_logs = self.train_function(iterator)\n    File \"/home/devkelvin/.local/lib/python3.10/site-packages/keras/engine/training.py\", line 1284, in train_function\n      return step_function(self, iterator)\n    File \"/home/devkelvin/.local/lib/python3.10/site-packages/keras/engine/training.py\", line 1268, in step_function\n      outputs = model.distribute_strategy.run(run_step, args=(data,))\n    File \"/home/devkelvin/.local/lib/python3.10/site-packages/keras/engine/training.py\", line 1249, in run_step\n      outputs = model.train_step(data)\n    File \"/home/devkelvin/.local/lib/python3.10/site-packages/keras/engine/training.py\", line 1051, in train_step\n      loss = self.compute_loss(x, y, y_pred, sample_weight)\n    File \"/home/devkelvin/.local/lib/python3.10/site-packages/keras/engine/training.py\", line 1109, in compute_loss\n      return self.compiled_loss(\n    File \"/home/devkelvin/.local/lib/python3.10/site-packages/keras/engine/compile_utils.py\", line 265, in __call__\n      loss_value = loss_obj(y_t, y_p, sample_weight=sw)\n    File \"/home/devkelvin/.local/lib/python3.10/site-packages/keras/losses.py\", line 142, in __call__\n      losses = call_fn(y_true, y_pred)\n    File \"/home/devkelvin/.local/lib/python3.10/site-packages/keras/losses.py\", line 268, in call\n      return ag_fn(y_true, y_pred, **self._fn_kwargs)\n    File \"/home/devkelvin/.local/lib/python3.10/site-packages/keras/losses.py\", line 1469, in mean_squared_error\n      y_true = tf.cast(y_true, y_pred.dtype)\nNode: 'mean_squared_error/Cast'\nCast string to float is not supported\n\t [[{{node mean_squared_error/Cast}}]] [Op:__inference_train_function_47348]\n",
     "output_type": "error",
     "traceback": [
      "\u001b[0;31m---------------------------------------------------------------------------\u001b[0m",
      "\u001b[0;31mRuntimeError\u001b[0m                              Traceback (most recent call last)",
      "Cell \u001b[0;32mIn[53], line 3\u001b[0m\n\u001b[1;32m      1\u001b[0m keras \u001b[39m=\u001b[39m ak\u001b[39m.\u001b[39mTextRegressor(overwrite\u001b[39m=\u001b[39m\u001b[39mTrue\u001b[39;00m, max_trials\u001b[39m=\u001b[39m\u001b[39m5\u001b[39m)\n\u001b[0;32m----> 3\u001b[0m keras\u001b[39m.\u001b[39;49mfit(X_train_ak, y_train_ak, epochs\u001b[39m=\u001b[39;49m\u001b[39m30\u001b[39;49m, validation_split\u001b[39m=\u001b[39;49m\u001b[39m0.2\u001b[39;49m)\n",
      "File \u001b[0;32m~/.local/lib/python3.10/site-packages/autokeras/tasks/text.py:292\u001b[0m, in \u001b[0;36mTextRegressor.fit\u001b[0;34m(self, x, y, epochs, callbacks, validation_split, validation_data, **kwargs)\u001b[0m\n\u001b[1;32m    235\u001b[0m \u001b[39mdef\u001b[39;00m \u001b[39mfit\u001b[39m(\n\u001b[1;32m    236\u001b[0m     \u001b[39mself\u001b[39m,\n\u001b[1;32m    237\u001b[0m     x\u001b[39m=\u001b[39m\u001b[39mNone\u001b[39;00m,\n\u001b[0;32m   (...)\u001b[0m\n\u001b[1;32m    243\u001b[0m     \u001b[39m*\u001b[39m\u001b[39m*\u001b[39mkwargs\n\u001b[1;32m    244\u001b[0m ):\n\u001b[1;32m    245\u001b[0m \u001b[39m    \u001b[39m\u001b[39m\"\"\"Search for the best model and hyperparameters for the AutoModel.\u001b[39;00m\n\u001b[1;32m    246\u001b[0m \n\u001b[1;32m    247\u001b[0m \u001b[39m    It will search for the best model based on the performances on\u001b[39;00m\n\u001b[0;32m   (...)\u001b[0m\n\u001b[1;32m    290\u001b[0m \u001b[39m            validation loss values and validation metrics values (if applicable).\u001b[39;00m\n\u001b[1;32m    291\u001b[0m \u001b[39m    \"\"\"\u001b[39;00m\n\u001b[0;32m--> 292\u001b[0m     history \u001b[39m=\u001b[39m \u001b[39msuper\u001b[39;49m()\u001b[39m.\u001b[39;49mfit(\n\u001b[1;32m    293\u001b[0m         x\u001b[39m=\u001b[39;49mx,\n\u001b[1;32m    294\u001b[0m         y\u001b[39m=\u001b[39;49my,\n\u001b[1;32m    295\u001b[0m         epochs\u001b[39m=\u001b[39;49mepochs,\n\u001b[1;32m    296\u001b[0m         callbacks\u001b[39m=\u001b[39;49mcallbacks,\n\u001b[1;32m    297\u001b[0m         validation_split\u001b[39m=\u001b[39;49mvalidation_split,\n\u001b[1;32m    298\u001b[0m         validation_data\u001b[39m=\u001b[39;49mvalidation_data,\n\u001b[1;32m    299\u001b[0m         \u001b[39m*\u001b[39;49m\u001b[39m*\u001b[39;49mkwargs\n\u001b[1;32m    300\u001b[0m     )\n\u001b[1;32m    301\u001b[0m     \u001b[39mreturn\u001b[39;00m history\n",
      "File \u001b[0;32m~/.local/lib/python3.10/site-packages/autokeras/auto_model.py:292\u001b[0m, in \u001b[0;36mAutoModel.fit\u001b[0;34m(self, x, y, batch_size, epochs, callbacks, validation_split, validation_data, verbose, **kwargs)\u001b[0m\n\u001b[1;32m    287\u001b[0m \u001b[39mif\u001b[39;00m validation_data \u001b[39mis\u001b[39;00m \u001b[39mNone\u001b[39;00m \u001b[39mand\u001b[39;00m validation_split:\n\u001b[1;32m    288\u001b[0m     dataset, validation_data \u001b[39m=\u001b[39m data_utils\u001b[39m.\u001b[39msplit_dataset(\n\u001b[1;32m    289\u001b[0m         dataset, validation_split\n\u001b[1;32m    290\u001b[0m     )\n\u001b[0;32m--> 292\u001b[0m history \u001b[39m=\u001b[39m \u001b[39mself\u001b[39;49m\u001b[39m.\u001b[39;49mtuner\u001b[39m.\u001b[39;49msearch(\n\u001b[1;32m    293\u001b[0m     x\u001b[39m=\u001b[39;49mdataset,\n\u001b[1;32m    294\u001b[0m     epochs\u001b[39m=\u001b[39;49mepochs,\n\u001b[1;32m    295\u001b[0m     callbacks\u001b[39m=\u001b[39;49mcallbacks,\n\u001b[1;32m    296\u001b[0m     validation_data\u001b[39m=\u001b[39;49mvalidation_data,\n\u001b[1;32m    297\u001b[0m     validation_split\u001b[39m=\u001b[39;49mvalidation_split,\n\u001b[1;32m    298\u001b[0m     verbose\u001b[39m=\u001b[39;49mverbose,\n\u001b[1;32m    299\u001b[0m     \u001b[39m*\u001b[39;49m\u001b[39m*\u001b[39;49mkwargs\n\u001b[1;32m    300\u001b[0m )\n\u001b[1;32m    302\u001b[0m \u001b[39mreturn\u001b[39;00m history\n",
      "File \u001b[0;32m~/.local/lib/python3.10/site-packages/autokeras/engine/tuner.py:193\u001b[0m, in \u001b[0;36mAutoTuner.search\u001b[0;34m(self, epochs, callbacks, validation_split, verbose, **fit_kwargs)\u001b[0m\n\u001b[1;32m    191\u001b[0m \u001b[39mself\u001b[39m\u001b[39m.\u001b[39m_try_build(hp)\n\u001b[1;32m    192\u001b[0m \u001b[39mself\u001b[39m\u001b[39m.\u001b[39moracle\u001b[39m.\u001b[39mupdate_space(hp)\n\u001b[0;32m--> 193\u001b[0m \u001b[39msuper\u001b[39;49m()\u001b[39m.\u001b[39;49msearch(\n\u001b[1;32m    194\u001b[0m     epochs\u001b[39m=\u001b[39;49mepochs, callbacks\u001b[39m=\u001b[39;49mnew_callbacks, verbose\u001b[39m=\u001b[39;49mverbose, \u001b[39m*\u001b[39;49m\u001b[39m*\u001b[39;49mfit_kwargs\n\u001b[1;32m    195\u001b[0m )\n\u001b[1;32m    197\u001b[0m \u001b[39m# Train the best model use validation data.\u001b[39;00m\n\u001b[1;32m    198\u001b[0m \u001b[39m# Train the best model with enough number of epochs.\u001b[39;00m\n\u001b[1;32m    199\u001b[0m \u001b[39mif\u001b[39;00m validation_split \u001b[39m>\u001b[39m \u001b[39m0\u001b[39m \u001b[39mor\u001b[39;00m early_stopping_inserted:\n",
      "File \u001b[0;32m~/.local/lib/python3.10/site-packages/keras_tuner/engine/base_tuner.py:227\u001b[0m, in \u001b[0;36mBaseTuner.search\u001b[0;34m(self, *fit_args, **fit_kwargs)\u001b[0m\n\u001b[1;32m    225\u001b[0m     \u001b[39mself\u001b[39m\u001b[39m.\u001b[39mon_trial_begin(trial)\n\u001b[1;32m    226\u001b[0m     \u001b[39mself\u001b[39m\u001b[39m.\u001b[39m_try_run_and_update_trial(trial, \u001b[39m*\u001b[39mfit_args, \u001b[39m*\u001b[39m\u001b[39m*\u001b[39mfit_kwargs)\n\u001b[0;32m--> 227\u001b[0m     \u001b[39mself\u001b[39;49m\u001b[39m.\u001b[39;49mon_trial_end(trial)\n\u001b[1;32m    228\u001b[0m \u001b[39mself\u001b[39m\u001b[39m.\u001b[39mon_search_end()\n",
      "File \u001b[0;32m~/.local/lib/python3.10/site-packages/keras_tuner/engine/base_tuner.py:331\u001b[0m, in \u001b[0;36mBaseTuner.on_trial_end\u001b[0;34m(self, trial)\u001b[0m\n\u001b[1;32m    325\u001b[0m \u001b[39mdef\u001b[39;00m \u001b[39mon_trial_end\u001b[39m(\u001b[39mself\u001b[39m, trial):\n\u001b[1;32m    326\u001b[0m \u001b[39m    \u001b[39m\u001b[39m\"\"\"Called at the end of a trial.\u001b[39;00m\n\u001b[1;32m    327\u001b[0m \n\u001b[1;32m    328\u001b[0m \u001b[39m    Args:\u001b[39;00m\n\u001b[1;32m    329\u001b[0m \u001b[39m        trial: A `Trial` instance.\u001b[39;00m\n\u001b[1;32m    330\u001b[0m \u001b[39m    \"\"\"\u001b[39;00m\n\u001b[0;32m--> 331\u001b[0m     \u001b[39mself\u001b[39;49m\u001b[39m.\u001b[39;49moracle\u001b[39m.\u001b[39;49mend_trial(trial)\n\u001b[1;32m    332\u001b[0m     \u001b[39m# Display needs the updated trial scored by the Oracle.\u001b[39;00m\n\u001b[1;32m    333\u001b[0m     \u001b[39mself\u001b[39m\u001b[39m.\u001b[39m_display\u001b[39m.\u001b[39mon_trial_end(\u001b[39mself\u001b[39m\u001b[39m.\u001b[39moracle\u001b[39m.\u001b[39mget_trial(trial\u001b[39m.\u001b[39mtrial_id))\n",
      "File \u001b[0;32m~/.local/lib/python3.10/site-packages/keras_tuner/engine/oracle.py:107\u001b[0m, in \u001b[0;36msynchronized.<locals>.wrapped_func\u001b[0;34m(*args, **kwargs)\u001b[0m\n\u001b[1;32m    105\u001b[0m     LOCKS[oracle]\u001b[39m.\u001b[39macquire()\n\u001b[1;32m    106\u001b[0m     THREADS[oracle] \u001b[39m=\u001b[39m thread_name\n\u001b[0;32m--> 107\u001b[0m ret_val \u001b[39m=\u001b[39m func(\u001b[39m*\u001b[39;49margs, \u001b[39m*\u001b[39;49m\u001b[39m*\u001b[39;49mkwargs)\n\u001b[1;32m    108\u001b[0m \u001b[39mif\u001b[39;00m need_acquire:\n\u001b[1;32m    109\u001b[0m     THREADS[oracle] \u001b[39m=\u001b[39m \u001b[39mNone\u001b[39;00m\n",
      "File \u001b[0;32m~/.local/lib/python3.10/site-packages/keras_tuner/engine/oracle.py:434\u001b[0m, in \u001b[0;36mOracle.end_trial\u001b[0;34m(self, trial)\u001b[0m\n\u001b[1;32m    432\u001b[0m \u001b[39mif\u001b[39;00m \u001b[39mnot\u001b[39;00m \u001b[39mself\u001b[39m\u001b[39m.\u001b[39m_retry(trial):\n\u001b[1;32m    433\u001b[0m     \u001b[39mself\u001b[39m\u001b[39m.\u001b[39mend_order\u001b[39m.\u001b[39mappend(trial\u001b[39m.\u001b[39mtrial_id)\n\u001b[0;32m--> 434\u001b[0m     \u001b[39mself\u001b[39;49m\u001b[39m.\u001b[39;49m_check_consecutive_failures()\n\u001b[1;32m    436\u001b[0m \u001b[39mself\u001b[39m\u001b[39m.\u001b[39m_save_trial(trial)\n\u001b[1;32m    437\u001b[0m \u001b[39mself\u001b[39m\u001b[39m.\u001b[39msave()\n",
      "File \u001b[0;32m~/.local/lib/python3.10/site-packages/keras_tuner/engine/oracle.py:386\u001b[0m, in \u001b[0;36mOracle._check_consecutive_failures\u001b[0;34m(self)\u001b[0m\n\u001b[1;32m    384\u001b[0m     consecutive_failures \u001b[39m=\u001b[39m \u001b[39m0\u001b[39m\n\u001b[1;32m    385\u001b[0m \u001b[39mif\u001b[39;00m consecutive_failures \u001b[39m==\u001b[39m \u001b[39mself\u001b[39m\u001b[39m.\u001b[39mmax_consecutive_failed_trials:\n\u001b[0;32m--> 386\u001b[0m     \u001b[39mraise\u001b[39;00m \u001b[39mRuntimeError\u001b[39;00m(\n\u001b[1;32m    387\u001b[0m         \u001b[39m\"\u001b[39m\u001b[39mNumber of consecutive failures excceeded the limit \u001b[39m\u001b[39m\"\u001b[39m\n\u001b[1;32m    388\u001b[0m         \u001b[39mf\u001b[39m\u001b[39m\"\u001b[39m\u001b[39mof \u001b[39m\u001b[39m{\u001b[39;00m\u001b[39mself\u001b[39m\u001b[39m.\u001b[39mmax_consecutive_failed_trials\u001b[39m}\u001b[39;00m\u001b[39m.\u001b[39m\u001b[39m\\n\u001b[39;00m\u001b[39m\"\u001b[39m\n\u001b[1;32m    389\u001b[0m         \u001b[39m+\u001b[39m trial\u001b[39m.\u001b[39mmessage\n\u001b[1;32m    390\u001b[0m     )\n",
      "\u001b[0;31mRuntimeError\u001b[0m: Number of consecutive failures excceeded the limit of 3.\nTraceback (most recent call last):\n  File \"/home/devkelvin/.local/lib/python3.10/site-packages/keras_tuner/engine/base_tuner.py\", line 266, in _try_run_and_update_trial\n    self._run_and_update_trial(trial, *fit_args, **fit_kwargs)\n  File \"/home/devkelvin/.local/lib/python3.10/site-packages/keras_tuner/engine/base_tuner.py\", line 231, in _run_and_update_trial\n    results = self.run_trial(trial, *fit_args, **fit_kwargs)\n  File \"/home/devkelvin/.local/lib/python3.10/site-packages/keras_tuner/engine/tuner.py\", line 287, in run_trial\n    obj_value = self._build_and_fit_model(trial, *args, **copied_kwargs)\n  File \"/home/devkelvin/.local/lib/python3.10/site-packages/autokeras/engine/tuner.py\", line 101, in _build_and_fit_model\n    _, history = utils.fit_with_adaptive_batch_size(\n  File \"/home/devkelvin/.local/lib/python3.10/site-packages/autokeras/utils/utils.py\", line 88, in fit_with_adaptive_batch_size\n    history = run_with_adaptive_batch_size(\n  File \"/home/devkelvin/.local/lib/python3.10/site-packages/autokeras/utils/utils.py\", line 101, in run_with_adaptive_batch_size\n    history = func(x=x, validation_data=validation_data, **fit_kwargs)\n  File \"/home/devkelvin/.local/lib/python3.10/site-packages/autokeras/utils/utils.py\", line 89, in <lambda>\n    batch_size, lambda **kwargs: model.fit(**kwargs), **fit_kwargs\n  File \"/home/devkelvin/.local/lib/python3.10/site-packages/keras/utils/traceback_utils.py\", line 70, in error_handler\n    raise e.with_traceback(filtered_tb) from None\n  File \"/home/devkelvin/.local/lib/python3.10/site-packages/tensorflow/python/eager/execute.py\", line 52, in quick_execute\n    tensors = pywrap_tfe.TFE_Py_Execute(ctx._handle, device_name, op_name,\ntensorflow.python.framework.errors_impl.UnimplementedError: Graph execution error:\n\nDetected at node 'mean_squared_error/Cast' defined at (most recent call last):\n    File \"/usr/lib/python3.10/runpy.py\", line 196, in _run_module_as_main\n      return _run_code(code, main_globals, None,\n    File \"/usr/lib/python3.10/runpy.py\", line 86, in _run_code\n      exec(code, run_globals)\n    File \"/home/devkelvin/.local/lib/python3.10/site-packages/ipykernel_launcher.py\", line 17, in <module>\n      app.launch_new_instance()\n    File \"/home/devkelvin/.local/lib/python3.10/site-packages/traitlets/config/application.py\", line 1043, in launch_instance\n      app.start()\n    File \"/home/devkelvin/.local/lib/python3.10/site-packages/ipykernel/kernelapp.py\", line 725, in start\n      self.io_loop.start()\n    File \"/home/devkelvin/.local/lib/python3.10/site-packages/tornado/platform/asyncio.py\", line 215, in start\n      self.asyncio_loop.run_forever()\n    File \"/usr/lib/python3.10/asyncio/base_events.py\", line 600, in run_forever\n      self._run_once()\n    File \"/usr/lib/python3.10/asyncio/base_events.py\", line 1896, in _run_once\n      handle._run()\n    File \"/usr/lib/python3.10/asyncio/events.py\", line 80, in _run\n      self._context.run(self._callback, *self._args)\n    File \"/home/devkelvin/.local/lib/python3.10/site-packages/ipykernel/kernelbase.py\", line 513, in dispatch_queue\n      await self.process_one()\n    File \"/home/devkelvin/.local/lib/python3.10/site-packages/ipykernel/kernelbase.py\", line 502, in process_one\n      await dispatch(*args)\n    File \"/home/devkelvin/.local/lib/python3.10/site-packages/ipykernel/kernelbase.py\", line 409, in dispatch_shell\n      await result\n    File \"/home/devkelvin/.local/lib/python3.10/site-packages/ipykernel/kernelbase.py\", line 729, in execute_request\n      reply_content = await reply_content\n    File \"/home/devkelvin/.local/lib/python3.10/site-packages/ipykernel/ipkernel.py\", line 422, in do_execute\n      res = shell.run_cell(\n    File \"/home/devkelvin/.local/lib/python3.10/site-packages/ipykernel/zmqshell.py\", line 540, in run_cell\n      return super().run_cell(*args, **kwargs)\n    File \"/home/devkelvin/.local/lib/python3.10/site-packages/IPython/core/interactiveshell.py\", line 2961, in run_cell\n      result = self._run_cell(\n    File \"/home/devkelvin/.local/lib/python3.10/site-packages/IPython/core/interactiveshell.py\", line 3016, in _run_cell\n      result = runner(coro)\n    File \"/home/devkelvin/.local/lib/python3.10/site-packages/IPython/core/async_helpers.py\", line 129, in _pseudo_sync_runner\n      coro.send(None)\n    File \"/home/devkelvin/.local/lib/python3.10/site-packages/IPython/core/interactiveshell.py\", line 3221, in run_cell_async\n      has_raised = await self.run_ast_nodes(code_ast.body, cell_name,\n    File \"/home/devkelvin/.local/lib/python3.10/site-packages/IPython/core/interactiveshell.py\", line 3400, in run_ast_nodes\n      if await self.run_code(code, result, async_=asy):\n    File \"/home/devkelvin/.local/lib/python3.10/site-packages/IPython/core/interactiveshell.py\", line 3460, in run_code\n      exec(code_obj, self.user_global_ns, self.user_ns)\n    File \"/tmp/ipykernel_5987/4269979880.py\", line 3, in <module>\n      keras.fit(X_train_ak, y_train_ak, epochs=30, validation_split=0.2)\n    File \"/home/devkelvin/.local/lib/python3.10/site-packages/autokeras/tasks/text.py\", line 292, in fit\n      history = super().fit(\n    File \"/home/devkelvin/.local/lib/python3.10/site-packages/autokeras/auto_model.py\", line 292, in fit\n      history = self.tuner.search(\n    File \"/home/devkelvin/.local/lib/python3.10/site-packages/autokeras/engine/tuner.py\", line 193, in search\n      super().search(\n    File \"/home/devkelvin/.local/lib/python3.10/site-packages/keras_tuner/engine/base_tuner.py\", line 226, in search\n      self._try_run_and_update_trial(trial, *fit_args, **fit_kwargs)\n    File \"/home/devkelvin/.local/lib/python3.10/site-packages/keras_tuner/engine/base_tuner.py\", line 266, in _try_run_and_update_trial\n      self._run_and_update_trial(trial, *fit_args, **fit_kwargs)\n    File \"/home/devkelvin/.local/lib/python3.10/site-packages/keras_tuner/engine/base_tuner.py\", line 231, in _run_and_update_trial\n      results = self.run_trial(trial, *fit_args, **fit_kwargs)\n    File \"/home/devkelvin/.local/lib/python3.10/site-packages/keras_tuner/engine/tuner.py\", line 287, in run_trial\n      obj_value = self._build_and_fit_model(trial, *args, **copied_kwargs)\n    File \"/home/devkelvin/.local/lib/python3.10/site-packages/autokeras/engine/tuner.py\", line 101, in _build_and_fit_model\n      _, history = utils.fit_with_adaptive_batch_size(\n    File \"/home/devkelvin/.local/lib/python3.10/site-packages/autokeras/utils/utils.py\", line 88, in fit_with_adaptive_batch_size\n      history = run_with_adaptive_batch_size(\n    File \"/home/devkelvin/.local/lib/python3.10/site-packages/autokeras/utils/utils.py\", line 101, in run_with_adaptive_batch_size\n      history = func(x=x, validation_data=validation_data, **fit_kwargs)\n    File \"/home/devkelvin/.local/lib/python3.10/site-packages/autokeras/utils/utils.py\", line 89, in <lambda>\n      batch_size, lambda **kwargs: model.fit(**kwargs), **fit_kwargs\n    File \"/home/devkelvin/.local/lib/python3.10/site-packages/keras/utils/traceback_utils.py\", line 65, in error_handler\n      return fn(*args, **kwargs)\n    File \"/home/devkelvin/.local/lib/python3.10/site-packages/keras/engine/training.py\", line 1685, in fit\n      tmp_logs = self.train_function(iterator)\n    File \"/home/devkelvin/.local/lib/python3.10/site-packages/keras/engine/training.py\", line 1284, in train_function\n      return step_function(self, iterator)\n    File \"/home/devkelvin/.local/lib/python3.10/site-packages/keras/engine/training.py\", line 1268, in step_function\n      outputs = model.distribute_strategy.run(run_step, args=(data,))\n    File \"/home/devkelvin/.local/lib/python3.10/site-packages/keras/engine/training.py\", line 1249, in run_step\n      outputs = model.train_step(data)\n    File \"/home/devkelvin/.local/lib/python3.10/site-packages/keras/engine/training.py\", line 1051, in train_step\n      loss = self.compute_loss(x, y, y_pred, sample_weight)\n    File \"/home/devkelvin/.local/lib/python3.10/site-packages/keras/engine/training.py\", line 1109, in compute_loss\n      return self.compiled_loss(\n    File \"/home/devkelvin/.local/lib/python3.10/site-packages/keras/engine/compile_utils.py\", line 265, in __call__\n      loss_value = loss_obj(y_t, y_p, sample_weight=sw)\n    File \"/home/devkelvin/.local/lib/python3.10/site-packages/keras/losses.py\", line 142, in __call__\n      losses = call_fn(y_true, y_pred)\n    File \"/home/devkelvin/.local/lib/python3.10/site-packages/keras/losses.py\", line 268, in call\n      return ag_fn(y_true, y_pred, **self._fn_kwargs)\n    File \"/home/devkelvin/.local/lib/python3.10/site-packages/keras/losses.py\", line 1469, in mean_squared_error\n      y_true = tf.cast(y_true, y_pred.dtype)\nNode: 'mean_squared_error/Cast'\nCast string to float is not supported\n\t [[{{node mean_squared_error/Cast}}]] [Op:__inference_train_function_47348]\n"
     ]
    }
   ],
   "source": [
    "keras = ak.TextRegressor(overwrite=True, max_trials=5)\n",
    "\n",
    "keras.fit(X_train_ak, y_train_ak, epochs=30, validation_split=0.2)"
   ]
  },
  {
   "cell_type": "code",
   "execution_count": null,
   "metadata": {},
   "outputs": [],
   "source": [
    "keras_export = keras.export_model()\n",
    "keras_export.summary()"
   ]
  }
 ],
 "metadata": {
  "kernelspec": {
   "display_name": "Python 3",
   "language": "python",
   "name": "python3"
  },
  "language_info": {
   "codemirror_mode": {
    "name": "ipython",
    "version": 3
   },
   "file_extension": ".py",
   "mimetype": "text/x-python",
   "name": "python",
   "nbconvert_exporter": "python",
   "pygments_lexer": "ipython3",
   "version": "3.10.6"
  },
  "orig_nbformat": 4
 },
 "nbformat": 4,
 "nbformat_minor": 2
}
