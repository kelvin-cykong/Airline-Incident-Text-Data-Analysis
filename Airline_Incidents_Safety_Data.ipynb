{
 "cells": [
  {
   "attachments": {},
   "cell_type": "markdown",
   "metadata": {},
   "source": [
    "# Airline Incidents Safety Data Jupyter Notebook\n",
    "\n",
    "Data is from https://www.kaggle.com/datasets/tarique7/airline-incidents-safety-data\n",
    "\n",
    "Last Update: Mar 18 2023"
   ]
  },
  {
   "cell_type": "code",
   "execution_count": 1,
   "metadata": {},
   "outputs": [],
   "source": [
    "import pandas as pd"
   ]
  },
  {
   "cell_type": "code",
   "execution_count": 2,
   "metadata": {},
   "outputs": [],
   "source": [
    "data = pd.read_csv('data/Airline Occurences.csv')"
   ]
  },
  {
   "cell_type": "code",
   "execution_count": 3,
   "metadata": {},
   "outputs": [
    {
     "data": {
      "text/html": [
       "<div>\n",
       "<style scoped>\n",
       "    .dataframe tbody tr th:only-of-type {\n",
       "        vertical-align: middle;\n",
       "    }\n",
       "\n",
       "    .dataframe tbody tr th {\n",
       "        vertical-align: top;\n",
       "    }\n",
       "\n",
       "    .dataframe thead th {\n",
       "        text-align: right;\n",
       "    }\n",
       "</style>\n",
       "<table border=\"1\" class=\"dataframe\">\n",
       "  <thead>\n",
       "    <tr style=\"text-align: right;\">\n",
       "      <th></th>\n",
       "      <th>Report</th>\n",
       "      <th>Part Failure</th>\n",
       "      <th>Occurence Nature condition</th>\n",
       "      <th>Occurence Precautionary Procedures</th>\n",
       "    </tr>\n",
       "  </thead>\n",
       "  <tbody>\n",
       "    <tr>\n",
       "      <th>0</th>\n",
       "      <td>MECHANICAL / LANDING GEAR GND FAIL MSG AFTER T...</td>\n",
       "      <td>RT MLG BRAKE DAMAGED</td>\n",
       "      <td>WARNING INDICATION</td>\n",
       "      <td>OTHER</td>\n",
       "    </tr>\n",
       "    <tr>\n",
       "      <th>1</th>\n",
       "      <td>THE NOSE LANDING GEAR DID NOT EXTEND FULLY DUR...</td>\n",
       "      <td>ZONE 700 MALFUNCTIONED</td>\n",
       "      <td>WARNING INDICATION</td>\n",
       "      <td>ABORTED APPROACH</td>\n",
       "    </tr>\n",
       "    <tr>\n",
       "      <th>2</th>\n",
       "      <td>THE LEFT SIDE HYDRAULIC SYSTEM FILTER BOWL ASS...</td>\n",
       "      <td>HYD FILTER FAILED</td>\n",
       "      <td>OTHER</td>\n",
       "      <td>ABORTED APPROACH</td>\n",
       "    </tr>\n",
       "    <tr>\n",
       "      <th>3</th>\n",
       "      <td>AIRCRAFT WAS ON ROLLOUT DURING A NORMAL LANDIN...</td>\n",
       "      <td>LEFT COLLAPSED</td>\n",
       "      <td>OTHER</td>\n",
       "      <td>OTHER</td>\n",
       "    </tr>\n",
       "    <tr>\n",
       "      <th>4</th>\n",
       "      <td>UPON TAKEOFF ROLL BUT PRIOR TO REACHING 80 KNO...</td>\n",
       "      <td>ZONE 600 CRACKED</td>\n",
       "      <td>WARNING INDICATION</td>\n",
       "      <td>ABORTED TAKEOFF</td>\n",
       "    </tr>\n",
       "  </tbody>\n",
       "</table>\n",
       "</div>"
      ],
      "text/plain": [
       "                                              Report  \\\n",
       "0  MECHANICAL / LANDING GEAR GND FAIL MSG AFTER T...   \n",
       "1  THE NOSE LANDING GEAR DID NOT EXTEND FULLY DUR...   \n",
       "2  THE LEFT SIDE HYDRAULIC SYSTEM FILTER BOWL ASS...   \n",
       "3  AIRCRAFT WAS ON ROLLOUT DURING A NORMAL LANDIN...   \n",
       "4  UPON TAKEOFF ROLL BUT PRIOR TO REACHING 80 KNO...   \n",
       "\n",
       "                    Part Failure  Occurence Nature condition  \\\n",
       "0  RT MLG BRAKE DAMAGED           WARNING INDICATION           \n",
       "1      ZONE 700 MALFUNCTIONED     WARNING INDICATION           \n",
       "2    HYD FILTER FAILED            OTHER                        \n",
       "3          LEFT COLLAPSED         OTHER                        \n",
       "4      ZONE 600 CRACKED           WARNING INDICATION           \n",
       "\n",
       "  Occurence Precautionary Procedures  \n",
       "0           OTHER                     \n",
       "1           ABORTED APPROACH          \n",
       "2           ABORTED APPROACH          \n",
       "3           OTHER                     \n",
       "4           ABORTED TAKEOFF           "
      ]
     },
     "execution_count": 3,
     "metadata": {},
     "output_type": "execute_result"
    }
   ],
   "source": [
    "data.head()"
   ]
  },
  {
   "cell_type": "code",
   "execution_count": 4,
   "metadata": {},
   "outputs": [
    {
     "data": {
      "text/plain": [
       "OTHER                         82172\n",
       "WARNING INDICATION             7154\n",
       "NO TEST                        3577\n",
       "SMOKE/FUMES/ODORS/SPARKS       2166\n",
       "FALSE WARNING                  1683\n",
       "FLUID LOSS                      975\n",
       "FLT CONT AFFECTED               320\n",
       "OVER TEMP                       316\n",
       "NO WARNING INDICATION           255\n",
       "VIBRATION/BUFFET                228\n",
       "INADEQUATE Q C                  223\n",
       "AFFECT SYSTEMS                  202\n",
       "F.O.D.                          191\n",
       "PARTIAL RPM/PWR LOSS            152\n",
       "MULTIPLE FAILURE                107\n",
       "FLAME/FIRE                       65\n",
       "ENGINE STOPPAGE                  56\n",
       "SIGNIFICANT FAILURE REPORT       53\n",
       "INFLIGHT SEPARATION              47\n",
       "ENGINE FLAMEOUT                  38\n",
       "ELECT. POWER LOSS-50 PC          27\n",
       "FLT. ATTITUDE INST.              21\n",
       "Name: Occurence Nature condition, dtype: int64"
      ]
     },
     "execution_count": 4,
     "metadata": {},
     "output_type": "execute_result"
    }
   ],
   "source": [
    "data['Occurence Nature condition'].value_counts()"
   ]
  },
  {
   "cell_type": "code",
   "execution_count": null,
   "metadata": {},
   "outputs": [],
   "source": []
  }
 ],
 "metadata": {
  "kernelspec": {
   "display_name": "Python 3",
   "language": "python",
   "name": "python3"
  },
  "language_info": {
   "codemirror_mode": {
    "name": "ipython",
    "version": 3
   },
   "file_extension": ".py",
   "mimetype": "text/x-python",
   "name": "python",
   "nbconvert_exporter": "python",
   "pygments_lexer": "ipython3",
   "version": "3.10.6"
  },
  "orig_nbformat": 4
 },
 "nbformat": 4,
 "nbformat_minor": 2
}
